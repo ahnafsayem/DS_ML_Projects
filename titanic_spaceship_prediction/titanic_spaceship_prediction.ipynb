{
 "cells": [
  {
   "cell_type": "markdown",
   "id": "00f90357",
   "metadata": {},
   "source": [
    "# Titanic Spaceship Prediction\n",
    "\n",
    "### Random Forest & Decision Tree Classifiers are used"
   ]
  },
  {
   "cell_type": "markdown",
   "id": "10d44f16",
   "metadata": {},
   "source": [
    "#### Importing Libraries"
   ]
  },
  {
   "cell_type": "code",
   "execution_count": 1,
   "id": "a7ba8c09",
   "metadata": {},
   "outputs": [],
   "source": [
    "import numpy as np\n",
    "import pandas as pd\n",
    "import matplotlib.pyplot as plt\n",
    "import seaborn as sns"
   ]
  },
  {
   "cell_type": "markdown",
   "id": "87857624",
   "metadata": {},
   "source": [
    "#### Load Data"
   ]
  },
  {
   "cell_type": "code",
   "execution_count": 2,
   "id": "c5bc3335",
   "metadata": {},
   "outputs": [
    {
     "data": {
      "text/html": [
       "<div>\n",
       "<style scoped>\n",
       "    .dataframe tbody tr th:only-of-type {\n",
       "        vertical-align: middle;\n",
       "    }\n",
       "\n",
       "    .dataframe tbody tr th {\n",
       "        vertical-align: top;\n",
       "    }\n",
       "\n",
       "    .dataframe thead th {\n",
       "        text-align: right;\n",
       "    }\n",
       "</style>\n",
       "<table border=\"1\" class=\"dataframe\">\n",
       "  <thead>\n",
       "    <tr style=\"text-align: right;\">\n",
       "      <th></th>\n",
       "      <th>PassengerId</th>\n",
       "      <th>HomePlanet</th>\n",
       "      <th>CryoSleep</th>\n",
       "      <th>Cabin</th>\n",
       "      <th>Destination</th>\n",
       "      <th>Age</th>\n",
       "      <th>VIP</th>\n",
       "      <th>RoomService</th>\n",
       "      <th>FoodCourt</th>\n",
       "      <th>ShoppingMall</th>\n",
       "      <th>Spa</th>\n",
       "      <th>VRDeck</th>\n",
       "      <th>Name</th>\n",
       "      <th>Transported</th>\n",
       "    </tr>\n",
       "  </thead>\n",
       "  <tbody>\n",
       "    <tr>\n",
       "      <th>0</th>\n",
       "      <td>0001_01</td>\n",
       "      <td>Europa</td>\n",
       "      <td>False</td>\n",
       "      <td>B/0/P</td>\n",
       "      <td>TRAPPIST-1e</td>\n",
       "      <td>39.0</td>\n",
       "      <td>False</td>\n",
       "      <td>0.0</td>\n",
       "      <td>0.0</td>\n",
       "      <td>0.0</td>\n",
       "      <td>0.0</td>\n",
       "      <td>0.0</td>\n",
       "      <td>Maham Ofracculy</td>\n",
       "      <td>False</td>\n",
       "    </tr>\n",
       "    <tr>\n",
       "      <th>1</th>\n",
       "      <td>0002_01</td>\n",
       "      <td>Earth</td>\n",
       "      <td>False</td>\n",
       "      <td>F/0/S</td>\n",
       "      <td>TRAPPIST-1e</td>\n",
       "      <td>24.0</td>\n",
       "      <td>False</td>\n",
       "      <td>109.0</td>\n",
       "      <td>9.0</td>\n",
       "      <td>25.0</td>\n",
       "      <td>549.0</td>\n",
       "      <td>44.0</td>\n",
       "      <td>Juanna Vines</td>\n",
       "      <td>True</td>\n",
       "    </tr>\n",
       "    <tr>\n",
       "      <th>2</th>\n",
       "      <td>0003_01</td>\n",
       "      <td>Europa</td>\n",
       "      <td>False</td>\n",
       "      <td>A/0/S</td>\n",
       "      <td>TRAPPIST-1e</td>\n",
       "      <td>58.0</td>\n",
       "      <td>True</td>\n",
       "      <td>43.0</td>\n",
       "      <td>3576.0</td>\n",
       "      <td>0.0</td>\n",
       "      <td>6715.0</td>\n",
       "      <td>49.0</td>\n",
       "      <td>Altark Susent</td>\n",
       "      <td>False</td>\n",
       "    </tr>\n",
       "    <tr>\n",
       "      <th>3</th>\n",
       "      <td>0003_02</td>\n",
       "      <td>Europa</td>\n",
       "      <td>False</td>\n",
       "      <td>A/0/S</td>\n",
       "      <td>TRAPPIST-1e</td>\n",
       "      <td>33.0</td>\n",
       "      <td>False</td>\n",
       "      <td>0.0</td>\n",
       "      <td>1283.0</td>\n",
       "      <td>371.0</td>\n",
       "      <td>3329.0</td>\n",
       "      <td>193.0</td>\n",
       "      <td>Solam Susent</td>\n",
       "      <td>False</td>\n",
       "    </tr>\n",
       "    <tr>\n",
       "      <th>4</th>\n",
       "      <td>0004_01</td>\n",
       "      <td>Earth</td>\n",
       "      <td>False</td>\n",
       "      <td>F/1/S</td>\n",
       "      <td>TRAPPIST-1e</td>\n",
       "      <td>16.0</td>\n",
       "      <td>False</td>\n",
       "      <td>303.0</td>\n",
       "      <td>70.0</td>\n",
       "      <td>151.0</td>\n",
       "      <td>565.0</td>\n",
       "      <td>2.0</td>\n",
       "      <td>Willy Santantines</td>\n",
       "      <td>True</td>\n",
       "    </tr>\n",
       "  </tbody>\n",
       "</table>\n",
       "</div>"
      ],
      "text/plain": [
       "  PassengerId HomePlanet CryoSleep  Cabin  Destination   Age    VIP  \\\n",
       "0     0001_01     Europa     False  B/0/P  TRAPPIST-1e  39.0  False   \n",
       "1     0002_01      Earth     False  F/0/S  TRAPPIST-1e  24.0  False   \n",
       "2     0003_01     Europa     False  A/0/S  TRAPPIST-1e  58.0   True   \n",
       "3     0003_02     Europa     False  A/0/S  TRAPPIST-1e  33.0  False   \n",
       "4     0004_01      Earth     False  F/1/S  TRAPPIST-1e  16.0  False   \n",
       "\n",
       "   RoomService  FoodCourt  ShoppingMall     Spa  VRDeck               Name  \\\n",
       "0          0.0        0.0           0.0     0.0     0.0    Maham Ofracculy   \n",
       "1        109.0        9.0          25.0   549.0    44.0       Juanna Vines   \n",
       "2         43.0     3576.0           0.0  6715.0    49.0      Altark Susent   \n",
       "3          0.0     1283.0         371.0  3329.0   193.0       Solam Susent   \n",
       "4        303.0       70.0         151.0   565.0     2.0  Willy Santantines   \n",
       "\n",
       "   Transported  \n",
       "0        False  \n",
       "1         True  \n",
       "2        False  \n",
       "3        False  \n",
       "4         True  "
      ]
     },
     "execution_count": 2,
     "metadata": {},
     "output_type": "execute_result"
    }
   ],
   "source": [
    "train = pd.read_csv(\"datasets/train.csv\")\n",
    "test = pd.read_csv(\"datasets/test.csv\")\n",
    "\n",
    "train.head(5)"
   ]
  },
  {
   "cell_type": "markdown",
   "id": "58de16b8",
   "metadata": {},
   "source": [
    "#### Getting insights for analysis"
   ]
  },
  {
   "cell_type": "code",
   "execution_count": 3,
   "id": "2cab4f9f",
   "metadata": {},
   "outputs": [
    {
     "data": {
      "text/plain": [
       "(8693, 14)"
      ]
     },
     "execution_count": 3,
     "metadata": {},
     "output_type": "execute_result"
    }
   ],
   "source": [
    "train.shape"
   ]
  },
  {
   "cell_type": "code",
   "execution_count": 4,
   "id": "c10708ff",
   "metadata": {},
   "outputs": [
    {
     "data": {
      "text/plain": [
       "(4277, 13)"
      ]
     },
     "execution_count": 4,
     "metadata": {},
     "output_type": "execute_result"
    }
   ],
   "source": [
    "test.shape"
   ]
  },
  {
   "cell_type": "code",
   "execution_count": 5,
   "id": "066a40b5",
   "metadata": {},
   "outputs": [
    {
     "name": "stdout",
     "output_type": "stream",
     "text": [
      "<class 'pandas.core.frame.DataFrame'>\n",
      "RangeIndex: 8693 entries, 0 to 8692\n",
      "Data columns (total 14 columns):\n",
      " #   Column        Non-Null Count  Dtype  \n",
      "---  ------        --------------  -----  \n",
      " 0   PassengerId   8693 non-null   object \n",
      " 1   HomePlanet    8492 non-null   object \n",
      " 2   CryoSleep     8476 non-null   object \n",
      " 3   Cabin         8494 non-null   object \n",
      " 4   Destination   8511 non-null   object \n",
      " 5   Age           8514 non-null   float64\n",
      " 6   VIP           8490 non-null   object \n",
      " 7   RoomService   8512 non-null   float64\n",
      " 8   FoodCourt     8510 non-null   float64\n",
      " 9   ShoppingMall  8485 non-null   float64\n",
      " 10  Spa           8510 non-null   float64\n",
      " 11  VRDeck        8505 non-null   float64\n",
      " 12  Name          8493 non-null   object \n",
      " 13  Transported   8693 non-null   bool   \n",
      "dtypes: bool(1), float64(6), object(7)\n",
      "memory usage: 891.5+ KB\n"
     ]
    }
   ],
   "source": [
    "train.info()"
   ]
  },
  {
   "cell_type": "code",
   "execution_count": 6,
   "id": "549b7105",
   "metadata": {},
   "outputs": [
    {
     "name": "stdout",
     "output_type": "stream",
     "text": [
      "<class 'pandas.core.frame.DataFrame'>\n",
      "RangeIndex: 4277 entries, 0 to 4276\n",
      "Data columns (total 13 columns):\n",
      " #   Column        Non-Null Count  Dtype  \n",
      "---  ------        --------------  -----  \n",
      " 0   PassengerId   4277 non-null   object \n",
      " 1   HomePlanet    4190 non-null   object \n",
      " 2   CryoSleep     4184 non-null   object \n",
      " 3   Cabin         4177 non-null   object \n",
      " 4   Destination   4185 non-null   object \n",
      " 5   Age           4186 non-null   float64\n",
      " 6   VIP           4184 non-null   object \n",
      " 7   RoomService   4195 non-null   float64\n",
      " 8   FoodCourt     4171 non-null   float64\n",
      " 9   ShoppingMall  4179 non-null   float64\n",
      " 10  Spa           4176 non-null   float64\n",
      " 11  VRDeck        4197 non-null   float64\n",
      " 12  Name          4183 non-null   object \n",
      "dtypes: float64(6), object(7)\n",
      "memory usage: 434.5+ KB\n"
     ]
    }
   ],
   "source": [
    "test.info()"
   ]
  },
  {
   "cell_type": "code",
   "execution_count": 7,
   "id": "d1457927",
   "metadata": {},
   "outputs": [
    {
     "data": {
      "text/plain": [
       "PassengerId       0\n",
       "HomePlanet      201\n",
       "CryoSleep       217\n",
       "Cabin           199\n",
       "Destination     182\n",
       "Age             179\n",
       "VIP             203\n",
       "RoomService     181\n",
       "FoodCourt       183\n",
       "ShoppingMall    208\n",
       "Spa             183\n",
       "VRDeck          188\n",
       "Name            200\n",
       "Transported       0\n",
       "dtype: int64"
      ]
     },
     "execution_count": 7,
     "metadata": {},
     "output_type": "execute_result"
    }
   ],
   "source": [
    "train.isnull().sum()"
   ]
  },
  {
   "cell_type": "code",
   "execution_count": 8,
   "id": "1cf4438a",
   "metadata": {},
   "outputs": [],
   "source": [
    "%matplotlib inline  \n",
    "sns.set()           #load seaborn's default theme\n",
    "\n",
    "def bar_chart(feature):\n",
    "    transported = train[train['Transported']==True] [feature].value_counts()\n",
    "    dead = train[train['Transported']==False] [feature].value_counts()\n",
    "    \n",
    "    df = pd.DataFrame([transported,dead])\n",
    "    df.index = ['Transported','Dead']\n",
    "    \n",
    "    df.plot(kind = 'bar')"
   ]
  },
  {
   "cell_type": "code",
   "execution_count": 9,
   "id": "2395423a",
   "metadata": {},
   "outputs": [
    {
     "data": {
      "text/html": [
       "<div>\n",
       "<style scoped>\n",
       "    .dataframe tbody tr th:only-of-type {\n",
       "        vertical-align: middle;\n",
       "    }\n",
       "\n",
       "    .dataframe tbody tr th {\n",
       "        vertical-align: top;\n",
       "    }\n",
       "\n",
       "    .dataframe thead th {\n",
       "        text-align: right;\n",
       "    }\n",
       "</style>\n",
       "<table border=\"1\" class=\"dataframe\">\n",
       "  <thead>\n",
       "    <tr style=\"text-align: right;\">\n",
       "      <th></th>\n",
       "      <th>PassengerId</th>\n",
       "      <th>HomePlanet</th>\n",
       "      <th>CryoSleep</th>\n",
       "      <th>Cabin</th>\n",
       "      <th>Destination</th>\n",
       "      <th>Age</th>\n",
       "      <th>VIP</th>\n",
       "      <th>RoomService</th>\n",
       "      <th>FoodCourt</th>\n",
       "      <th>ShoppingMall</th>\n",
       "      <th>Spa</th>\n",
       "      <th>VRDeck</th>\n",
       "      <th>Name</th>\n",
       "      <th>Transported</th>\n",
       "    </tr>\n",
       "  </thead>\n",
       "  <tbody>\n",
       "    <tr>\n",
       "      <th>0</th>\n",
       "      <td>0001_01</td>\n",
       "      <td>Europa</td>\n",
       "      <td>False</td>\n",
       "      <td>B/0/P</td>\n",
       "      <td>TRAPPIST-1e</td>\n",
       "      <td>39.0</td>\n",
       "      <td>False</td>\n",
       "      <td>0.0</td>\n",
       "      <td>0.0</td>\n",
       "      <td>0.0</td>\n",
       "      <td>0.0</td>\n",
       "      <td>0.0</td>\n",
       "      <td>Maham Ofracculy</td>\n",
       "      <td>False</td>\n",
       "    </tr>\n",
       "    <tr>\n",
       "      <th>1</th>\n",
       "      <td>0002_01</td>\n",
       "      <td>Earth</td>\n",
       "      <td>False</td>\n",
       "      <td>F/0/S</td>\n",
       "      <td>TRAPPIST-1e</td>\n",
       "      <td>24.0</td>\n",
       "      <td>False</td>\n",
       "      <td>109.0</td>\n",
       "      <td>9.0</td>\n",
       "      <td>25.0</td>\n",
       "      <td>549.0</td>\n",
       "      <td>44.0</td>\n",
       "      <td>Juanna Vines</td>\n",
       "      <td>True</td>\n",
       "    </tr>\n",
       "  </tbody>\n",
       "</table>\n",
       "</div>"
      ],
      "text/plain": [
       "  PassengerId HomePlanet CryoSleep  Cabin  Destination   Age    VIP  \\\n",
       "0     0001_01     Europa     False  B/0/P  TRAPPIST-1e  39.0  False   \n",
       "1     0002_01      Earth     False  F/0/S  TRAPPIST-1e  24.0  False   \n",
       "\n",
       "   RoomService  FoodCourt  ShoppingMall    Spa  VRDeck             Name  \\\n",
       "0          0.0        0.0           0.0    0.0     0.0  Maham Ofracculy   \n",
       "1        109.0        9.0          25.0  549.0    44.0     Juanna Vines   \n",
       "\n",
       "   Transported  \n",
       "0        False  \n",
       "1         True  "
      ]
     },
     "execution_count": 9,
     "metadata": {},
     "output_type": "execute_result"
    }
   ],
   "source": [
    "#check unique values\n",
    "\n",
    "train.head(2)"
   ]
  },
  {
   "cell_type": "code",
   "execution_count": 10,
   "id": "80b31ffb",
   "metadata": {},
   "outputs": [
    {
     "name": "stdout",
     "output_type": "stream",
     "text": [
      "['Europa' 'Earth' 'Mars' nan]\n",
      "4\n",
      "Earth     4602\n",
      "Europa    2131\n",
      "Mars      1759\n",
      "Name: HomePlanet, dtype: int64\n"
     ]
    }
   ],
   "source": [
    "print(train[\"HomePlanet\"].unique())\n",
    "print(len(train[\"HomePlanet\"].unique()))\n",
    "\n",
    "print(train[\"HomePlanet\"].value_counts())"
   ]
  },
  {
   "cell_type": "code",
   "execution_count": 11,
   "id": "6e3be52c",
   "metadata": {},
   "outputs": [
    {
     "data": {
      "image/png": "[encoded data removed]",
      "text/plain": [
       "<Figure size 640x480 with 1 Axes>"
      ]
     },
     "metadata": {},
     "output_type": "display_data"
    }
   ],
   "source": [
    "bar_chart(\"HomePlanet\")"
   ]
  },
  {
   "cell_type": "code",
   "execution_count": 12,
   "id": "df34bd9c",
   "metadata": {},
   "outputs": [
    {
     "name": "stdout",
     "output_type": "stream",
     "text": [
      "['TRAPPIST-1e' 'PSO J318.5-22' '55 Cancri e' nan]\n",
      "4\n",
      "TRAPPIST-1e      5915\n",
      "55 Cancri e      1800\n",
      "PSO J318.5-22     796\n",
      "Name: Destination, dtype: int64\n"
     ]
    }
   ],
   "source": [
    "print(train[\"Destination\"].unique())\n",
    "print(len(train[\"Destination\"].unique()))\n",
    "print(train[\"Destination\"].value_counts())"
   ]
  },
  {
   "cell_type": "code",
   "execution_count": 13,
   "id": "8324236c",
   "metadata": {},
   "outputs": [
    {
     "data": {
      "image/png": "[encoded data removed]",
      "text/plain": [
       "<Figure size 640x480 with 1 Axes>"
      ]
     },
     "metadata": {},
     "output_type": "display_data"
    }
   ],
   "source": [
    "bar_chart(\"Destination\")"
   ]
  },
  {
   "cell_type": "code",
   "execution_count": 14,
   "id": "57f0832a",
   "metadata": {},
   "outputs": [
    {
     "name": "stdout",
     "output_type": "stream",
     "text": [
      "False    5439\n",
      "True     3037\n",
      "Name: CryoSleep, dtype: int64\n"
     ]
    }
   ],
   "source": [
    "print(train[\"CryoSleep\"].value_counts())"
   ]
  },
  {
   "cell_type": "code",
   "execution_count": 15,
   "id": "ee043637",
   "metadata": {},
   "outputs": [
    {
     "data": {
      "image/png": "[encoded data removed]",
      "text/plain": [
       "<Figure size 640x480 with 1 Axes>"
      ]
     },
     "metadata": {},
     "output_type": "display_data"
    }
   ],
   "source": [
    "bar_chart(\"CryoSleep\")"
   ]
  },
  {
   "cell_type": "code",
   "execution_count": 16,
   "id": "71394694",
   "metadata": {},
   "outputs": [
    {
     "name": "stdout",
     "output_type": "stream",
     "text": [
      "False    8291\n",
      "True      199\n",
      "Name: VIP, dtype: int64\n"
     ]
    }
   ],
   "source": [
    "print(train[\"VIP\"].value_counts())"
   ]
  },
  {
   "cell_type": "code",
   "execution_count": 17,
   "id": "1c71658c",
   "metadata": {},
   "outputs": [
    {
     "data": {
      "image/png": "[encoded data removed]",
      "text/plain": [
       "<Figure size 640x480 with 1 Axes>"
      ]
     },
     "metadata": {},
     "output_type": "display_data"
    }
   ],
   "source": [
    "plt.hist(train['Age'])\n",
    "plt.show()"
   ]
  },
  {
   "cell_type": "markdown",
   "id": "aeb912d5",
   "metadata": {},
   "source": [
    "### Handling Missing Values"
   ]
  },
  {
   "cell_type": "code",
   "execution_count": 18,
   "id": "9a15c273",
   "metadata": {},
   "outputs": [],
   "source": [
    "# numeric value ---> median\n",
    "# object value ----> mode\n",
    "\n",
    "# Will use \"Random forest\" and \"Decision Tree\" for prediction that's why filling with mode,median"
   ]
  },
  {
   "cell_type": "code",
   "execution_count": 19,
   "id": "65e5b3b0",
   "metadata": {},
   "outputs": [],
   "source": [
    "train_test=[train, test]"
   ]
  },
  {
   "cell_type": "code",
   "execution_count": 20,
   "id": "3accc2ab",
   "metadata": {},
   "outputs": [],
   "source": [
    "# numeric type\n",
    "for dataset in train_test:\n",
    "    dataset['Age'] = dataset['Age'].fillna(dataset['Age'].median())\n",
    "    dataset['RoomService'] = dataset['RoomService'].fillna(dataset['RoomService'].median())\n",
    "    dataset['FoodCourt'] = dataset['FoodCourt'].fillna(dataset['FoodCourt'].median())\n",
    "    dataset['Spa'] = dataset['Spa'].fillna(dataset['Spa'].median())\n",
    "    dataset['ShoppingMall'] = dataset['ShoppingMall'].fillna(dataset['ShoppingMall'].median())\n",
    "    dataset['VRDeck'] = dataset['VRDeck'].fillna(dataset['VRDeck'].median())"
   ]
  },
  {
   "cell_type": "code",
   "execution_count": 21,
   "id": "9301f9d2",
   "metadata": {},
   "outputs": [],
   "source": [
    "# object type\n",
    "for dataset in train_test:\n",
    "    dataset['HomePlanet'] = dataset['HomePlanet'].fillna(dataset['HomePlanet'].mode()[0])\n",
    "    dataset['CryoSleep'] = dataset['CryoSleep'].fillna(dataset['CryoSleep'].mode()[0])\n",
    "    dataset['Cabin'] = dataset['Cabin'].fillna(dataset['Cabin'].mode()[0])\n",
    "    dataset['Destination'] = dataset['Destination'].fillna(dataset['Destination'].mode()[0])\n",
    "    dataset['VIP'] = dataset['VIP'].fillna(dataset['VIP'].mode()[0])"
   ]
  },
  {
   "cell_type": "code",
   "execution_count": 22,
   "id": "34f91f7d",
   "metadata": {},
   "outputs": [
    {
     "data": {
      "text/plain": [
       "PassengerId       0\n",
       "HomePlanet        0\n",
       "CryoSleep         0\n",
       "Cabin             0\n",
       "Destination       0\n",
       "Age               0\n",
       "VIP               0\n",
       "RoomService       0\n",
       "FoodCourt         0\n",
       "ShoppingMall      0\n",
       "Spa               0\n",
       "VRDeck            0\n",
       "Name            200\n",
       "Transported       0\n",
       "dtype: int64"
      ]
     },
     "execution_count": 22,
     "metadata": {},
     "output_type": "execute_result"
    }
   ],
   "source": [
    "train.isnull().sum()"
   ]
  },
  {
   "cell_type": "code",
   "execution_count": 23,
   "id": "5fb8fef8",
   "metadata": {},
   "outputs": [
    {
     "data": {
      "text/plain": [
       "PassengerId      0\n",
       "HomePlanet       0\n",
       "CryoSleep        0\n",
       "Cabin            0\n",
       "Destination      0\n",
       "Age              0\n",
       "VIP              0\n",
       "RoomService      0\n",
       "FoodCourt        0\n",
       "ShoppingMall     0\n",
       "Spa              0\n",
       "VRDeck           0\n",
       "Name            94\n",
       "dtype: int64"
      ]
     },
     "execution_count": 23,
     "metadata": {},
     "output_type": "execute_result"
    }
   ],
   "source": [
    "test.isnull().sum()"
   ]
  },
  {
   "cell_type": "markdown",
   "id": "55f34c7b",
   "metadata": {},
   "source": [
    "### Transported - Dead Insights"
   ]
  },
  {
   "cell_type": "code",
   "execution_count": 24,
   "id": "f8572615",
   "metadata": {},
   "outputs": [
    {
     "name": "stderr",
     "output_type": "stream",
     "text": [
      "C:\\Users\\HP\\anaconda3\\lib\\site-packages\\seaborn\\_decorators.py:36: FutureWarning: Pass the following variable as a keyword arg: x. From version 0.12, the only valid positional argument will be `data`, and passing other arguments without an explicit keyword will result in an error or misinterpretation.\n",
      "  warnings.warn(\n"
     ]
    },
    {
     "data": {
      "image/png": "[encoded data removed]",
      "text/plain": [
       "<Figure size 1500x600 with 2 Axes>"
      ]
     },
     "metadata": {},
     "output_type": "display_data"
    }
   ],
   "source": [
    "f, ax = plt.subplots(1,2,figsize = (15,6))\n",
    "\n",
    "train['Transported'].value_counts().plot.pie(explode=[0,0.05],autopct = '%1.1f%%',ax=ax[0],shadow=True)\n",
    "ax[0].set_title('Transported')\n",
    "ax[0].set_ylabel(\"\")\n",
    "\n",
    "sns.countplot('Transported',data=train,ax=ax[1])\n",
    "ax[1].set_title('Transported')\n",
    "plt.show()"
   ]
  },
  {
   "cell_type": "code",
   "execution_count": 25,
   "id": "508044ca",
   "metadata": {},
   "outputs": [
    {
     "name": "stdout",
     "output_type": "stream",
     "text": [
      "Transported:  4378\n",
      "Dead:  4315\n"
     ]
    }
   ],
   "source": [
    "#Checking the number of Transported and Dead people\n",
    "\n",
    "transported = train[train['Transported'] == True]\n",
    "dead = train[train['Transported'] == False]\n",
    "\n",
    "print(\"Transported: \", len(transported))\n",
    "print(\"Dead: \", len(dead))"
   ]
  },
  {
   "cell_type": "markdown",
   "id": "cf2ea16c",
   "metadata": {},
   "source": [
    "### Homeplanet - Transported Insights"
   ]
  },
  {
   "cell_type": "code",
   "execution_count": 26,
   "id": "05103f4b",
   "metadata": {},
   "outputs": [
    {
     "data": {
      "text/html": [
       "<style type=\"text/css\">\n",
       "#T_1208f_row0_col0 {\n",
       "  background-color: #6fb766;\n",
       "  color: #f1f1f1;\n",
       "}\n",
       "#T_1208f_row0_col1 {\n",
       "  background-color: #acd666;\n",
       "  color: #000000;\n",
       "}\n",
       "#T_1208f_row0_col2 {\n",
       "  background-color: #8fc766;\n",
       "  color: #000000;\n",
       "}\n",
       "#T_1208f_row1_col0, #T_1208f_row2_col1, #T_1208f_row2_col2 {\n",
       "  background-color: #ffff66;\n",
       "  color: #000000;\n",
       "}\n",
       "#T_1208f_row1_col1 {\n",
       "  background-color: #dcee66;\n",
       "  color: #000000;\n",
       "}\n",
       "#T_1208f_row1_col2 {\n",
       "  background-color: #f2f866;\n",
       "  color: #000000;\n",
       "}\n",
       "#T_1208f_row2_col0 {\n",
       "  background-color: #f8fc66;\n",
       "  color: #000000;\n",
       "}\n",
       "#T_1208f_row3_col0, #T_1208f_row3_col1, #T_1208f_row3_col2 {\n",
       "  background-color: #008066;\n",
       "  color: #f1f1f1;\n",
       "}\n",
       "</style>\n",
       "<table id=\"T_1208f\">\n",
       "  <thead>\n",
       "    <tr>\n",
       "      <th class=\"index_name level0\" >Transported</th>\n",
       "      <th id=\"T_1208f_level0_col0\" class=\"col_heading level0 col0\" >False</th>\n",
       "      <th id=\"T_1208f_level0_col1\" class=\"col_heading level0 col1\" >True</th>\n",
       "      <th id=\"T_1208f_level0_col2\" class=\"col_heading level0 col2\" >All</th>\n",
       "    </tr>\n",
       "    <tr>\n",
       "      <th class=\"index_name level0\" >HomePlanet</th>\n",
       "      <th class=\"blank col0\" >&nbsp;</th>\n",
       "      <th class=\"blank col1\" >&nbsp;</th>\n",
       "      <th class=\"blank col2\" >&nbsp;</th>\n",
       "    </tr>\n",
       "  </thead>\n",
       "  <tbody>\n",
       "    <tr>\n",
       "      <th id=\"T_1208f_level0_row0\" class=\"row_heading level0 row0\" >Earth</th>\n",
       "      <td id=\"T_1208f_row0_col0\" class=\"data row0 col0\" >2749</td>\n",
       "      <td id=\"T_1208f_row0_col1\" class=\"data row0 col1\" >2054</td>\n",
       "      <td id=\"T_1208f_row0_col2\" class=\"data row0 col2\" >4803</td>\n",
       "    </tr>\n",
       "    <tr>\n",
       "      <th id=\"T_1208f_level0_row1\" class=\"row_heading level0 row1\" >Europa</th>\n",
       "      <td id=\"T_1208f_row1_col0\" class=\"data row1 col0\" >727</td>\n",
       "      <td id=\"T_1208f_row1_col1\" class=\"data row1 col1\" >1404</td>\n",
       "      <td id=\"T_1208f_row1_col2\" class=\"data row1 col2\" >2131</td>\n",
       "    </tr>\n",
       "    <tr>\n",
       "      <th id=\"T_1208f_level0_row2\" class=\"row_heading level0 row2\" >Mars</th>\n",
       "      <td id=\"T_1208f_row2_col0\" class=\"data row2 col0\" >839</td>\n",
       "      <td id=\"T_1208f_row2_col1\" class=\"data row2 col1\" >920</td>\n",
       "      <td id=\"T_1208f_row2_col2\" class=\"data row2 col2\" >1759</td>\n",
       "    </tr>\n",
       "    <tr>\n",
       "      <th id=\"T_1208f_level0_row3\" class=\"row_heading level0 row3\" >All</th>\n",
       "      <td id=\"T_1208f_row3_col0\" class=\"data row3 col0\" >4315</td>\n",
       "      <td id=\"T_1208f_row3_col1\" class=\"data row3 col1\" >4378</td>\n",
       "      <td id=\"T_1208f_row3_col2\" class=\"data row3 col2\" >8693</td>\n",
       "    </tr>\n",
       "  </tbody>\n",
       "</table>\n"
      ],
      "text/plain": [
       "<pandas.io.formats.style.Styler at 0x1b8488b7a00>"
      ]
     },
     "execution_count": 26,
     "metadata": {},
     "output_type": "execute_result"
    }
   ],
   "source": [
    "pd.crosstab(train.HomePlanet, train.Transported, margins=True).style.background_gradient(cmap='summer_r')"
   ]
  },
  {
   "cell_type": "code",
   "execution_count": 27,
   "id": "d96b8c69",
   "metadata": {},
   "outputs": [
    {
     "name": "stderr",
     "output_type": "stream",
     "text": [
      "C:\\Users\\HP\\anaconda3\\lib\\site-packages\\seaborn\\_decorators.py:36: FutureWarning: Pass the following variable as a keyword arg: x. From version 0.12, the only valid positional argument will be `data`, and passing other arguments without an explicit keyword will result in an error or misinterpretation.\n",
      "  warnings.warn(\n"
     ]
    },
    {
     "data": {
      "image/png": "[encoded data removed]",
      "text/plain": [
       "<Figure size 1800x800 with 2 Axes>"
      ]
     },
     "metadata": {},
     "output_type": "display_data"
    }
   ],
   "source": [
    "f, ax = plt.subplots(1,2, figsize=(18,8))\n",
    "\n",
    "train['HomePlanet'].value_counts().plot.bar(ax=ax[0], color=['red','blue','yellow'])\n",
    "ax[0].set_title(\"Number of Passengers by HomePlanet\")\n",
    "ax[0].set_ylabel('Count')\n",
    "\n",
    "sns.countplot('HomePlanet', hue='Transported', data=train, ax=ax[1])\n",
    "ax[1].set_title('Homeplamet:Transported vs Dead')\n",
    "\n",
    "plt.show()"
   ]
  },
  {
   "cell_type": "markdown",
   "id": "91fd7129",
   "metadata": {},
   "source": [
    "### Destination - Transported Insights"
   ]
  },
  {
   "cell_type": "code",
   "execution_count": 28,
   "id": "2eedfd85",
   "metadata": {},
   "outputs": [],
   "source": [
    "# Replacing Destination name and simplifying it\n",
    "\n",
    "train['Destination'] = train['Destination'].replace(['TRAPPIST-1e'], 'T')\n",
    "train['Destination'] = train['Destination'].replace(['55 Cancri e'], 'C')\n",
    "train['Destination'] = train['Destination'].replace(['PSO J318.5-22'], 'P')"
   ]
  },
  {
   "cell_type": "code",
   "execution_count": 29,
   "id": "7d53ea44",
   "metadata": {},
   "outputs": [
    {
     "name": "stdout",
     "output_type": "stream",
     "text": [
      "T    6097\n",
      "C    1800\n",
      "P     796\n",
      "Name: Destination, dtype: int64\n"
     ]
    }
   ],
   "source": [
    "print(train[\"Destination\"].value_counts())"
   ]
  },
  {
   "cell_type": "code",
   "execution_count": 30,
   "id": "2568c6f9",
   "metadata": {},
   "outputs": [
    {
     "data": {
      "text/html": [
       "<style type=\"text/css\">\n",
       "#T_38dfb_row0_col0 {\n",
       "  background-color: #ebf566;\n",
       "  color: #000000;\n",
       "}\n",
       "#T_38dfb_row0_col1 {\n",
       "  background-color: #d3e966;\n",
       "  color: #000000;\n",
       "}\n",
       "#T_38dfb_row0_col2 {\n",
       "  background-color: #dfef66;\n",
       "  color: #000000;\n",
       "}\n",
       "#T_38dfb_row1_col0, #T_38dfb_row1_col1, #T_38dfb_row1_col2 {\n",
       "  background-color: #ffff66;\n",
       "  color: #000000;\n",
       "}\n",
       "#T_38dfb_row2_col0 {\n",
       "  background-color: #47a366;\n",
       "  color: #f1f1f1;\n",
       "}\n",
       "#T_38dfb_row2_col1 {\n",
       "  background-color: #60b066;\n",
       "  color: #f1f1f1;\n",
       "}\n",
       "#T_38dfb_row2_col2 {\n",
       "  background-color: #54aa66;\n",
       "  color: #f1f1f1;\n",
       "}\n",
       "#T_38dfb_row3_col0, #T_38dfb_row3_col1, #T_38dfb_row3_col2 {\n",
       "  background-color: #008066;\n",
       "  color: #f1f1f1;\n",
       "}\n",
       "</style>\n",
       "<table id=\"T_38dfb\">\n",
       "  <thead>\n",
       "    <tr>\n",
       "      <th class=\"index_name level0\" >Transported</th>\n",
       "      <th id=\"T_38dfb_level0_col0\" class=\"col_heading level0 col0\" >False</th>\n",
       "      <th id=\"T_38dfb_level0_col1\" class=\"col_heading level0 col1\" >True</th>\n",
       "      <th id=\"T_38dfb_level0_col2\" class=\"col_heading level0 col2\" >All</th>\n",
       "    </tr>\n",
       "    <tr>\n",
       "      <th class=\"index_name level0\" >Destination</th>\n",
       "      <th class=\"blank col0\" >&nbsp;</th>\n",
       "      <th class=\"blank col1\" >&nbsp;</th>\n",
       "      <th class=\"blank col2\" >&nbsp;</th>\n",
       "    </tr>\n",
       "  </thead>\n",
       "  <tbody>\n",
       "    <tr>\n",
       "      <th id=\"T_38dfb_level0_row0\" class=\"row_heading level0 row0\" >C</th>\n",
       "      <td id=\"T_38dfb_row0_col0\" class=\"data row0 col0\" >702</td>\n",
       "      <td id=\"T_38dfb_row0_col1\" class=\"data row0 col1\" >1098</td>\n",
       "      <td id=\"T_38dfb_row0_col2\" class=\"data row0 col2\" >1800</td>\n",
       "    </tr>\n",
       "    <tr>\n",
       "      <th id=\"T_38dfb_level0_row1\" class=\"row_heading level0 row1\" >P</th>\n",
       "      <td id=\"T_38dfb_row1_col0\" class=\"data row1 col0\" >395</td>\n",
       "      <td id=\"T_38dfb_row1_col1\" class=\"data row1 col1\" >401</td>\n",
       "      <td id=\"T_38dfb_row1_col2\" class=\"data row1 col2\" >796</td>\n",
       "    </tr>\n",
       "    <tr>\n",
       "      <th id=\"T_38dfb_level0_row2\" class=\"row_heading level0 row2\" >T</th>\n",
       "      <td id=\"T_38dfb_row2_col0\" class=\"data row2 col0\" >3218</td>\n",
       "      <td id=\"T_38dfb_row2_col1\" class=\"data row2 col1\" >2879</td>\n",
       "      <td id=\"T_38dfb_row2_col2\" class=\"data row2 col2\" >6097</td>\n",
       "    </tr>\n",
       "    <tr>\n",
       "      <th id=\"T_38dfb_level0_row3\" class=\"row_heading level0 row3\" >All</th>\n",
       "      <td id=\"T_38dfb_row3_col0\" class=\"data row3 col0\" >4315</td>\n",
       "      <td id=\"T_38dfb_row3_col1\" class=\"data row3 col1\" >4378</td>\n",
       "      <td id=\"T_38dfb_row3_col2\" class=\"data row3 col2\" >8693</td>\n",
       "    </tr>\n",
       "  </tbody>\n",
       "</table>\n"
      ],
      "text/plain": [
       "<pandas.io.formats.style.Styler at 0x1b8492ab400>"
      ]
     },
     "execution_count": 30,
     "metadata": {},
     "output_type": "execute_result"
    }
   ],
   "source": [
    "pd.crosstab(train.Destination, train.Transported, margins=True).style.background_gradient(cmap='summer_r')"
   ]
  },
  {
   "cell_type": "code",
   "execution_count": 31,
   "id": "25f536f9",
   "metadata": {},
   "outputs": [
    {
     "data": {
      "image/png": "[encoded data removed]",
      "text/plain": [
       "<Figure size 640x480 with 1 Axes>"
      ]
     },
     "metadata": {},
     "output_type": "display_data"
    }
   ],
   "source": [
    "train['Destination'].value_counts().plot(kind='pie',  autopct='%1.1f%%', startangle=90)\n",
    "plt.show()"
   ]
  },
  {
   "cell_type": "code",
   "execution_count": 32,
   "id": "b4fc8c91",
   "metadata": {},
   "outputs": [
    {
     "name": "stderr",
     "output_type": "stream",
     "text": [
      "C:\\Users\\HP\\anaconda3\\lib\\site-packages\\seaborn\\_decorators.py:36: FutureWarning: Pass the following variable as a keyword arg: x. From version 0.12, the only valid positional argument will be `data`, and passing other arguments without an explicit keyword will result in an error or misinterpretation.\n",
      "  warnings.warn(\n"
     ]
    },
    {
     "data": {
      "image/png": "[encoded data removed]",
      "text/plain": [
       "<Figure size 1500x600 with 2 Axes>"
      ]
     },
     "metadata": {},
     "output_type": "display_data"
    }
   ],
   "source": [
    "f, ax = plt.subplots(1,2, figsize=(15,6))\n",
    "\n",
    "train['Destination'].value_counts().plot.bar(ax=ax[0], color=['red','blue','yellow'])\n",
    "ax[0].set_title(\"Number of Passengers by Destination\")\n",
    "ax[0].set_ylabel('Count')\n",
    "\n",
    "sns.countplot('Destination', hue='Transported', data=train, ax=ax[1])\n",
    "ax[1].set_title('Destination:Transported vs Dead')\n",
    "\n",
    "plt.show()"
   ]
  },
  {
   "cell_type": "code",
   "execution_count": 33,
   "id": "524ab10b",
   "metadata": {},
   "outputs": [
    {
     "data": {
      "text/html": [
       "<style type=\"text/css\">\n",
       "#T_ac64f_row0_col0 {\n",
       "  background-color: #d6eb66;\n",
       "  color: #000000;\n",
       "}\n",
       "#T_ac64f_row0_col1 {\n",
       "  background-color: #8cc666;\n",
       "  color: #000000;\n",
       "}\n",
       "#T_ac64f_row0_col2 {\n",
       "  background-color: #b8dc66;\n",
       "  color: #000000;\n",
       "}\n",
       "#T_ac64f_row0_col3 {\n",
       "  background-color: #bfdf66;\n",
       "  color: #000000;\n",
       "}\n",
       "#T_ac64f_row1_col0 {\n",
       "  background-color: #d4ea66;\n",
       "  color: #000000;\n",
       "}\n",
       "#T_ac64f_row1_col1 {\n",
       "  background-color: #8bc566;\n",
       "  color: #000000;\n",
       "}\n",
       "#T_ac64f_row1_col2 {\n",
       "  background-color: #d8ec66;\n",
       "  color: #000000;\n",
       "}\n",
       "#T_ac64f_row1_col3 {\n",
       "  background-color: #d5ea66;\n",
       "  color: #000000;\n",
       "}\n",
       "#T_ac64f_row2_col0 {\n",
       "  background-color: #e2f066;\n",
       "  color: #000000;\n",
       "}\n",
       "#T_ac64f_row2_col1, #T_ac64f_row2_col2, #T_ac64f_row2_col3, #T_ac64f_row4_col0 {\n",
       "  background-color: #ffff66;\n",
       "  color: #000000;\n",
       "}\n",
       "#T_ac64f_row3_col0 {\n",
       "  background-color: #b0d866;\n",
       "  color: #000000;\n",
       "}\n",
       "#T_ac64f_row3_col1 {\n",
       "  background-color: #fdfe66;\n",
       "  color: #000000;\n",
       "}\n",
       "#T_ac64f_row3_col2, #T_ac64f_row5_col2 {\n",
       "  background-color: #f0f866;\n",
       "  color: #000000;\n",
       "}\n",
       "#T_ac64f_row3_col3 {\n",
       "  background-color: #eaf466;\n",
       "  color: #000000;\n",
       "}\n",
       "#T_ac64f_row4_col1 {\n",
       "  background-color: #f8fc66;\n",
       "  color: #000000;\n",
       "}\n",
       "#T_ac64f_row4_col2 {\n",
       "  background-color: #f2f866;\n",
       "  color: #000000;\n",
       "}\n",
       "#T_ac64f_row4_col3 {\n",
       "  background-color: #fcfe66;\n",
       "  color: #000000;\n",
       "}\n",
       "#T_ac64f_row5_col0, #T_ac64f_row5_col3 {\n",
       "  background-color: #f9fc66;\n",
       "  color: #000000;\n",
       "}\n",
       "#T_ac64f_row5_col1 {\n",
       "  background-color: #fafc66;\n",
       "  color: #000000;\n",
       "}\n",
       "#T_ac64f_row6_col0, #T_ac64f_row6_col1, #T_ac64f_row6_col2, #T_ac64f_row6_col3 {\n",
       "  background-color: #008066;\n",
       "  color: #f1f1f1;\n",
       "}\n",
       "</style>\n",
       "<table id=\"T_ac64f\">\n",
       "  <thead>\n",
       "    <tr>\n",
       "      <th class=\"blank\" >&nbsp;</th>\n",
       "      <th class=\"index_name level0\" >Destination</th>\n",
       "      <th id=\"T_ac64f_level0_col0\" class=\"col_heading level0 col0\" >C</th>\n",
       "      <th id=\"T_ac64f_level0_col1\" class=\"col_heading level0 col1\" >P</th>\n",
       "      <th id=\"T_ac64f_level0_col2\" class=\"col_heading level0 col2\" >T</th>\n",
       "      <th id=\"T_ac64f_level0_col3\" class=\"col_heading level0 col3\" >All</th>\n",
       "    </tr>\n",
       "    <tr>\n",
       "      <th class=\"index_name level0\" >HomePlanet</th>\n",
       "      <th class=\"index_name level1\" >Transported</th>\n",
       "      <th class=\"blank col0\" >&nbsp;</th>\n",
       "      <th class=\"blank col1\" >&nbsp;</th>\n",
       "      <th class=\"blank col2\" >&nbsp;</th>\n",
       "      <th class=\"blank col3\" >&nbsp;</th>\n",
       "    </tr>\n",
       "  </thead>\n",
       "  <tbody>\n",
       "    <tr>\n",
       "      <th id=\"T_ac64f_level0_row0\" class=\"row_heading level0 row0\" rowspan=\"2\">Earth</th>\n",
       "      <th id=\"T_ac64f_level1_row0\" class=\"row_heading level1 row0\" >False</th>\n",
       "      <td id=\"T_ac64f_row0_col0\" class=\"data row0 col0\" >352</td>\n",
       "      <td id=\"T_ac64f_row0_col1\" class=\"data row0 col1\" >363</td>\n",
       "      <td id=\"T_ac64f_row0_col2\" class=\"data row0 col2\" >2034</td>\n",
       "      <td id=\"T_ac64f_row0_col3\" class=\"data row0 col3\" >2749</td>\n",
       "    </tr>\n",
       "    <tr>\n",
       "      <th id=\"T_ac64f_level1_row1\" class=\"row_heading level1 row1\" >True</th>\n",
       "      <td id=\"T_ac64f_row1_col0\" class=\"data row1 col0\" >369</td>\n",
       "      <td id=\"T_ac64f_row1_col1\" class=\"data row1 col1\" >365</td>\n",
       "      <td id=\"T_ac64f_row1_col2\" class=\"data row1 col2\" >1320</td>\n",
       "      <td id=\"T_ac64f_row1_col3\" class=\"data row1 col3\" >2054</td>\n",
       "    </tr>\n",
       "    <tr>\n",
       "      <th id=\"T_ac64f_level0_row2\" class=\"row_heading level0 row2\" rowspan=\"2\">Europa</th>\n",
       "      <th id=\"T_ac64f_level1_row2\" class=\"row_heading level1 row2\" >False</th>\n",
       "      <td id=\"T_ac64f_row2_col0\" class=\"data row2 col0\" >275</td>\n",
       "      <td id=\"T_ac64f_row2_col1\" class=\"data row2 col1\" >5</td>\n",
       "      <td id=\"T_ac64f_row2_col2\" class=\"data row2 col2\" >447</td>\n",
       "      <td id=\"T_ac64f_row2_col3\" class=\"data row2 col3\" >727</td>\n",
       "    </tr>\n",
       "    <tr>\n",
       "      <th id=\"T_ac64f_level1_row3\" class=\"row_heading level1 row3\" >True</th>\n",
       "      <td id=\"T_ac64f_row3_col0\" class=\"data row3 col0\" >611</td>\n",
       "      <td id=\"T_ac64f_row3_col1\" class=\"data row3 col1\" >14</td>\n",
       "      <td id=\"T_ac64f_row3_col2\" class=\"data row3 col2\" >779</td>\n",
       "      <td id=\"T_ac64f_row3_col3\" class=\"data row3 col3\" >1404</td>\n",
       "    </tr>\n",
       "    <tr>\n",
       "      <th id=\"T_ac64f_level0_row4\" class=\"row_heading level0 row4\" rowspan=\"2\">Mars</th>\n",
       "      <th id=\"T_ac64f_level1_row4\" class=\"row_heading level1 row4\" >False</th>\n",
       "      <td id=\"T_ac64f_row4_col0\" class=\"data row4 col0\" >75</td>\n",
       "      <td id=\"T_ac64f_row4_col1\" class=\"data row4 col1\" >27</td>\n",
       "      <td id=\"T_ac64f_row4_col2\" class=\"data row4 col2\" >737</td>\n",
       "      <td id=\"T_ac64f_row4_col3\" class=\"data row4 col3\" >839</td>\n",
       "    </tr>\n",
       "    <tr>\n",
       "      <th id=\"T_ac64f_level1_row5\" class=\"row_heading level1 row5\" >True</th>\n",
       "      <td id=\"T_ac64f_row5_col0\" class=\"data row5 col0\" >118</td>\n",
       "      <td id=\"T_ac64f_row5_col1\" class=\"data row5 col1\" >22</td>\n",
       "      <td id=\"T_ac64f_row5_col2\" class=\"data row5 col2\" >780</td>\n",
       "      <td id=\"T_ac64f_row5_col3\" class=\"data row5 col3\" >920</td>\n",
       "    </tr>\n",
       "    <tr>\n",
       "      <th id=\"T_ac64f_level0_row6\" class=\"row_heading level0 row6\" >All</th>\n",
       "      <th id=\"T_ac64f_level1_row6\" class=\"row_heading level1 row6\" ></th>\n",
       "      <td id=\"T_ac64f_row6_col0\" class=\"data row6 col0\" >1800</td>\n",
       "      <td id=\"T_ac64f_row6_col1\" class=\"data row6 col1\" >796</td>\n",
       "      <td id=\"T_ac64f_row6_col2\" class=\"data row6 col2\" >6097</td>\n",
       "      <td id=\"T_ac64f_row6_col3\" class=\"data row6 col3\" >8693</td>\n",
       "    </tr>\n",
       "  </tbody>\n",
       "</table>\n"
      ],
      "text/plain": [
       "<pandas.io.formats.style.Styler at 0x1b849a45790>"
      ]
     },
     "execution_count": 33,
     "metadata": {},
     "output_type": "execute_result"
    }
   ],
   "source": [
    "pd.crosstab([train.HomePlanet, train.Transported], train.Destination, margins = True).style.background_gradient(cmap='summer_r')"
   ]
  },
  {
   "cell_type": "markdown",
   "id": "a4eed305",
   "metadata": {},
   "source": [
    "### Mapping Data"
   ]
  },
  {
   "cell_type": "code",
   "execution_count": 34,
   "id": "36a3290d",
   "metadata": {},
   "outputs": [
    {
     "name": "stdout",
     "output_type": "stream",
     "text": [
      "<class 'pandas.core.frame.DataFrame'>\n",
      "RangeIndex: 8693 entries, 0 to 8692\n",
      "Data columns (total 14 columns):\n",
      " #   Column        Non-Null Count  Dtype  \n",
      "---  ------        --------------  -----  \n",
      " 0   PassengerId   8693 non-null   object \n",
      " 1   HomePlanet    8693 non-null   object \n",
      " 2   CryoSleep     8693 non-null   bool   \n",
      " 3   Cabin         8693 non-null   object \n",
      " 4   Destination   8693 non-null   object \n",
      " 5   Age           8693 non-null   float64\n",
      " 6   VIP           8693 non-null   bool   \n",
      " 7   RoomService   8693 non-null   float64\n",
      " 8   FoodCourt     8693 non-null   float64\n",
      " 9   ShoppingMall  8693 non-null   float64\n",
      " 10  Spa           8693 non-null   float64\n",
      " 11  VRDeck        8693 non-null   float64\n",
      " 12  Name          8493 non-null   object \n",
      " 13  Transported   8693 non-null   bool   \n",
      "dtypes: bool(3), float64(6), object(5)\n",
      "memory usage: 772.6+ KB\n"
     ]
    }
   ],
   "source": [
    "train.info()"
   ]
  },
  {
   "cell_type": "code",
   "execution_count": 35,
   "id": "49a46c40",
   "metadata": {},
   "outputs": [],
   "source": [
    "HomePlanet_mapping = {'Earth':0,'Europa':1,'Mars':2}\n",
    "\n",
    "for d in train_test:\n",
    "    d['HomePlanet'] = d['HomePlanet'].map(HomePlanet_mapping)"
   ]
  },
  {
   "cell_type": "code",
   "execution_count": 36,
   "id": "44985c78",
   "metadata": {},
   "outputs": [],
   "source": [
    "Destination_mapping = {'T':0,'C':1,'P':2}\n",
    "\n",
    "for d in train_test:\n",
    "    d['Destination'] = d['Destination'].map(Destination_mapping)"
   ]
  },
  {
   "cell_type": "code",
   "execution_count": 37,
   "id": "0c3c345b",
   "metadata": {},
   "outputs": [],
   "source": [
    "for d in train_test:\n",
    "    dataset['CryoSleep'] = dataset['CryoSleep'].astype(int)\n",
    "    dataset['VIP'] = dataset['VIP'].astype(int)"
   ]
  },
  {
   "cell_type": "code",
   "execution_count": 38,
   "id": "350b30f8",
   "metadata": {},
   "outputs": [],
   "source": [
    "train.Transported = train.Transported.replace({True: 1, False: 0})     #no \"Transported\" collumn in test set"
   ]
  },
  {
   "cell_type": "code",
   "execution_count": 39,
   "id": "f6da8b7f",
   "metadata": {},
   "outputs": [
    {
     "data": {
      "text/html": [
       "<div>\n",
       "<style scoped>\n",
       "    .dataframe tbody tr th:only-of-type {\n",
       "        vertical-align: middle;\n",
       "    }\n",
       "\n",
       "    .dataframe tbody tr th {\n",
       "        vertical-align: top;\n",
       "    }\n",
       "\n",
       "    .dataframe thead th {\n",
       "        text-align: right;\n",
       "    }\n",
       "</style>\n",
       "<table border=\"1\" class=\"dataframe\">\n",
       "  <thead>\n",
       "    <tr style=\"text-align: right;\">\n",
       "      <th></th>\n",
       "      <th>PassengerId</th>\n",
       "      <th>HomePlanet</th>\n",
       "      <th>CryoSleep</th>\n",
       "      <th>Cabin</th>\n",
       "      <th>Destination</th>\n",
       "      <th>Age</th>\n",
       "      <th>VIP</th>\n",
       "      <th>RoomService</th>\n",
       "      <th>FoodCourt</th>\n",
       "      <th>ShoppingMall</th>\n",
       "      <th>Spa</th>\n",
       "      <th>VRDeck</th>\n",
       "      <th>Name</th>\n",
       "      <th>Transported</th>\n",
       "    </tr>\n",
       "  </thead>\n",
       "  <tbody>\n",
       "    <tr>\n",
       "      <th>0</th>\n",
       "      <td>0001_01</td>\n",
       "      <td>1</td>\n",
       "      <td>False</td>\n",
       "      <td>B/0/P</td>\n",
       "      <td>0</td>\n",
       "      <td>39.0</td>\n",
       "      <td>False</td>\n",
       "      <td>0.0</td>\n",
       "      <td>0.0</td>\n",
       "      <td>0.0</td>\n",
       "      <td>0.0</td>\n",
       "      <td>0.0</td>\n",
       "      <td>Maham Ofracculy</td>\n",
       "      <td>0</td>\n",
       "    </tr>\n",
       "    <tr>\n",
       "      <th>1</th>\n",
       "      <td>0002_01</td>\n",
       "      <td>0</td>\n",
       "      <td>False</td>\n",
       "      <td>F/0/S</td>\n",
       "      <td>0</td>\n",
       "      <td>24.0</td>\n",
       "      <td>False</td>\n",
       "      <td>109.0</td>\n",
       "      <td>9.0</td>\n",
       "      <td>25.0</td>\n",
       "      <td>549.0</td>\n",
       "      <td>44.0</td>\n",
       "      <td>Juanna Vines</td>\n",
       "      <td>1</td>\n",
       "    </tr>\n",
       "    <tr>\n",
       "      <th>2</th>\n",
       "      <td>0003_01</td>\n",
       "      <td>1</td>\n",
       "      <td>False</td>\n",
       "      <td>A/0/S</td>\n",
       "      <td>0</td>\n",
       "      <td>58.0</td>\n",
       "      <td>True</td>\n",
       "      <td>43.0</td>\n",
       "      <td>3576.0</td>\n",
       "      <td>0.0</td>\n",
       "      <td>6715.0</td>\n",
       "      <td>49.0</td>\n",
       "      <td>Altark Susent</td>\n",
       "      <td>0</td>\n",
       "    </tr>\n",
       "    <tr>\n",
       "      <th>3</th>\n",
       "      <td>0003_02</td>\n",
       "      <td>1</td>\n",
       "      <td>False</td>\n",
       "      <td>A/0/S</td>\n",
       "      <td>0</td>\n",
       "      <td>33.0</td>\n",
       "      <td>False</td>\n",
       "      <td>0.0</td>\n",
       "      <td>1283.0</td>\n",
       "      <td>371.0</td>\n",
       "      <td>3329.0</td>\n",
       "      <td>193.0</td>\n",
       "      <td>Solam Susent</td>\n",
       "      <td>0</td>\n",
       "    </tr>\n",
       "    <tr>\n",
       "      <th>4</th>\n",
       "      <td>0004_01</td>\n",
       "      <td>0</td>\n",
       "      <td>False</td>\n",
       "      <td>F/1/S</td>\n",
       "      <td>0</td>\n",
       "      <td>16.0</td>\n",
       "      <td>False</td>\n",
       "      <td>303.0</td>\n",
       "      <td>70.0</td>\n",
       "      <td>151.0</td>\n",
       "      <td>565.0</td>\n",
       "      <td>2.0</td>\n",
       "      <td>Willy Santantines</td>\n",
       "      <td>1</td>\n",
       "    </tr>\n",
       "  </tbody>\n",
       "</table>\n",
       "</div>"
      ],
      "text/plain": [
       "  PassengerId  HomePlanet  CryoSleep  Cabin  Destination   Age    VIP  \\\n",
       "0     0001_01           1      False  B/0/P            0  39.0  False   \n",
       "1     0002_01           0      False  F/0/S            0  24.0  False   \n",
       "2     0003_01           1      False  A/0/S            0  58.0   True   \n",
       "3     0003_02           1      False  A/0/S            0  33.0  False   \n",
       "4     0004_01           0      False  F/1/S            0  16.0  False   \n",
       "\n",
       "   RoomService  FoodCourt  ShoppingMall     Spa  VRDeck               Name  \\\n",
       "0          0.0        0.0           0.0     0.0     0.0    Maham Ofracculy   \n",
       "1        109.0        9.0          25.0   549.0    44.0       Juanna Vines   \n",
       "2         43.0     3576.0           0.0  6715.0    49.0      Altark Susent   \n",
       "3          0.0     1283.0         371.0  3329.0   193.0       Solam Susent   \n",
       "4        303.0       70.0         151.0   565.0     2.0  Willy Santantines   \n",
       "\n",
       "   Transported  \n",
       "0            0  \n",
       "1            1  \n",
       "2            0  \n",
       "3            0  \n",
       "4            1  "
      ]
     },
     "execution_count": 39,
     "metadata": {},
     "output_type": "execute_result"
    }
   ],
   "source": [
    "train.head()"
   ]
  },
  {
   "cell_type": "markdown",
   "id": "71306f04",
   "metadata": {},
   "source": [
    "### Dropping"
   ]
  },
  {
   "cell_type": "code",
   "execution_count": 40,
   "id": "91ce0e37",
   "metadata": {},
   "outputs": [
    {
     "data": {
      "text/plain": [
       "(8693, 11)"
      ]
     },
     "execution_count": 40,
     "metadata": {},
     "output_type": "execute_result"
    }
   ],
   "source": [
    "train.drop(['PassengerId', 'Cabin', 'Name'], axis=1, inplace=True)\n",
    "train.shape"
   ]
  },
  {
   "cell_type": "code",
   "execution_count": 41,
   "id": "4e40a5b7",
   "metadata": {},
   "outputs": [
    {
     "data": {
      "text/html": [
       "<div>\n",
       "<style scoped>\n",
       "    .dataframe tbody tr th:only-of-type {\n",
       "        vertical-align: middle;\n",
       "    }\n",
       "\n",
       "    .dataframe tbody tr th {\n",
       "        vertical-align: top;\n",
       "    }\n",
       "\n",
       "    .dataframe thead th {\n",
       "        text-align: right;\n",
       "    }\n",
       "</style>\n",
       "<table border=\"1\" class=\"dataframe\">\n",
       "  <thead>\n",
       "    <tr style=\"text-align: right;\">\n",
       "      <th></th>\n",
       "      <th>HomePlanet</th>\n",
       "      <th>CryoSleep</th>\n",
       "      <th>Destination</th>\n",
       "      <th>Age</th>\n",
       "      <th>VIP</th>\n",
       "      <th>RoomService</th>\n",
       "      <th>FoodCourt</th>\n",
       "      <th>ShoppingMall</th>\n",
       "      <th>Spa</th>\n",
       "      <th>VRDeck</th>\n",
       "      <th>Transported</th>\n",
       "    </tr>\n",
       "  </thead>\n",
       "  <tbody>\n",
       "    <tr>\n",
       "      <th>0</th>\n",
       "      <td>1</td>\n",
       "      <td>False</td>\n",
       "      <td>0</td>\n",
       "      <td>39.0</td>\n",
       "      <td>False</td>\n",
       "      <td>0.0</td>\n",
       "      <td>0.0</td>\n",
       "      <td>0.0</td>\n",
       "      <td>0.0</td>\n",
       "      <td>0.0</td>\n",
       "      <td>0</td>\n",
       "    </tr>\n",
       "    <tr>\n",
       "      <th>1</th>\n",
       "      <td>0</td>\n",
       "      <td>False</td>\n",
       "      <td>0</td>\n",
       "      <td>24.0</td>\n",
       "      <td>False</td>\n",
       "      <td>109.0</td>\n",
       "      <td>9.0</td>\n",
       "      <td>25.0</td>\n",
       "      <td>549.0</td>\n",
       "      <td>44.0</td>\n",
       "      <td>1</td>\n",
       "    </tr>\n",
       "    <tr>\n",
       "      <th>2</th>\n",
       "      <td>1</td>\n",
       "      <td>False</td>\n",
       "      <td>0</td>\n",
       "      <td>58.0</td>\n",
       "      <td>True</td>\n",
       "      <td>43.0</td>\n",
       "      <td>3576.0</td>\n",
       "      <td>0.0</td>\n",
       "      <td>6715.0</td>\n",
       "      <td>49.0</td>\n",
       "      <td>0</td>\n",
       "    </tr>\n",
       "    <tr>\n",
       "      <th>3</th>\n",
       "      <td>1</td>\n",
       "      <td>False</td>\n",
       "      <td>0</td>\n",
       "      <td>33.0</td>\n",
       "      <td>False</td>\n",
       "      <td>0.0</td>\n",
       "      <td>1283.0</td>\n",
       "      <td>371.0</td>\n",
       "      <td>3329.0</td>\n",
       "      <td>193.0</td>\n",
       "      <td>0</td>\n",
       "    </tr>\n",
       "    <tr>\n",
       "      <th>4</th>\n",
       "      <td>0</td>\n",
       "      <td>False</td>\n",
       "      <td>0</td>\n",
       "      <td>16.0</td>\n",
       "      <td>False</td>\n",
       "      <td>303.0</td>\n",
       "      <td>70.0</td>\n",
       "      <td>151.0</td>\n",
       "      <td>565.0</td>\n",
       "      <td>2.0</td>\n",
       "      <td>1</td>\n",
       "    </tr>\n",
       "  </tbody>\n",
       "</table>\n",
       "</div>"
      ],
      "text/plain": [
       "   HomePlanet  CryoSleep  Destination   Age    VIP  RoomService  FoodCourt  \\\n",
       "0           1      False            0  39.0  False          0.0        0.0   \n",
       "1           0      False            0  24.0  False        109.0        9.0   \n",
       "2           1      False            0  58.0   True         43.0     3576.0   \n",
       "3           1      False            0  33.0  False          0.0     1283.0   \n",
       "4           0      False            0  16.0  False        303.0       70.0   \n",
       "\n",
       "   ShoppingMall     Spa  VRDeck  Transported  \n",
       "0           0.0     0.0     0.0            0  \n",
       "1          25.0   549.0    44.0            1  \n",
       "2           0.0  6715.0    49.0            0  \n",
       "3         371.0  3329.0   193.0            0  \n",
       "4         151.0   565.0     2.0            1  "
      ]
     },
     "execution_count": 41,
     "metadata": {},
     "output_type": "execute_result"
    }
   ],
   "source": [
    "train.head()"
   ]
  },
  {
   "cell_type": "markdown",
   "id": "18a4bf4f",
   "metadata": {},
   "source": [
    "### Machine Learning Algorithms"
   ]
  },
  {
   "cell_type": "code",
   "execution_count": 42,
   "id": "50e54360",
   "metadata": {},
   "outputs": [],
   "source": [
    "target = train.Transported\n",
    "train.drop('Transported', axis = 1, inplace=True)"
   ]
  },
  {
   "cell_type": "code",
   "execution_count": 43,
   "id": "86d9dc36",
   "metadata": {},
   "outputs": [
    {
     "name": "stdout",
     "output_type": "stream",
     "text": [
      "<class 'pandas.core.frame.DataFrame'>\n",
      "RangeIndex: 8693 entries, 0 to 8692\n",
      "Data columns (total 10 columns):\n",
      " #   Column        Non-Null Count  Dtype  \n",
      "---  ------        --------------  -----  \n",
      " 0   HomePlanet    8693 non-null   int64  \n",
      " 1   CryoSleep     8693 non-null   bool   \n",
      " 2   Destination   8693 non-null   int64  \n",
      " 3   Age           8693 non-null   float64\n",
      " 4   VIP           8693 non-null   bool   \n",
      " 5   RoomService   8693 non-null   float64\n",
      " 6   FoodCourt     8693 non-null   float64\n",
      " 7   ShoppingMall  8693 non-null   float64\n",
      " 8   Spa           8693 non-null   float64\n",
      " 9   VRDeck        8693 non-null   float64\n",
      "dtypes: bool(2), float64(6), int64(2)\n",
      "memory usage: 560.4 KB\n"
     ]
    }
   ],
   "source": [
    "train.info()"
   ]
  },
  {
   "cell_type": "code",
   "execution_count": 44,
   "id": "b9a0a5b0",
   "metadata": {},
   "outputs": [],
   "source": [
    "from sklearn.tree import DecisionTreeClassifier\n",
    "from sklearn.ensemble import RandomForestClassifier\n",
    "\n",
    "from sklearn.model_selection import KFold\n",
    "from sklearn. model_selection import cross_val_score"
   ]
  },
  {
   "cell_type": "code",
   "execution_count": 45,
   "id": "a5c8a399",
   "metadata": {},
   "outputs": [],
   "source": [
    "k_fold = KFold(n_splits=10, shuffle=True, random_state=0)"
   ]
  },
  {
   "cell_type": "code",
   "execution_count": 46,
   "id": "a0aa1abc",
   "metadata": {},
   "outputs": [
    {
     "data": {
      "text/plain": [
       "array([0.72183908, 0.73103448, 0.74712644, 0.75028769, 0.70771001,\n",
       "       0.76179517, 0.73647871, 0.75143843, 0.72842348, 0.7456847 ])"
      ]
     },
     "execution_count": 46,
     "metadata": {},
     "output_type": "execute_result"
    }
   ],
   "source": [
    "# Decision Tree\n",
    "\n",
    "clf_dt = DecisionTreeClassifier()\n",
    "score = cross_val_score(clf_dt, train, target, cv=k_fold, scoring='accuracy')\n",
    "score"
   ]
  },
  {
   "cell_type": "code",
   "execution_count": 47,
   "id": "9081ec7c",
   "metadata": {},
   "outputs": [
    {
     "data": {
      "text/plain": [
       "73.81818181818183"
      ]
     },
     "execution_count": 47,
     "metadata": {},
     "output_type": "execute_result"
    }
   ],
   "source": [
    "np.mean(score)*100"
   ]
  },
  {
   "cell_type": "code",
   "execution_count": 48,
   "id": "e963ac1a",
   "metadata": {},
   "outputs": [
    {
     "data": {
      "text/plain": [
       "array([0.77011494, 0.77471264, 0.79425287, 0.79976985, 0.76294591,\n",
       "       0.79171461, 0.78826237, 0.7986191 , 0.7986191 , 0.78365938])"
      ]
     },
     "execution_count": 48,
     "metadata": {},
     "output_type": "execute_result"
    }
   ],
   "source": [
    "# Random Forest\n",
    "\n",
    "clf_rf = RandomForestClassifier()\n",
    "score = cross_val_score(clf_rf, train, target, cv=k_fold, scoring='accuracy')\n",
    "score"
   ]
  },
  {
   "cell_type": "code",
   "execution_count": 49,
   "id": "7fa7c311",
   "metadata": {},
   "outputs": [
    {
     "data": {
      "text/plain": [
       "78.6267079348703"
      ]
     },
     "execution_count": 49,
     "metadata": {},
     "output_type": "execute_result"
    }
   ],
   "source": [
    "np.mean(score)*100"
   ]
  },
  {
   "cell_type": "markdown",
   "id": "d4a484a4",
   "metadata": {},
   "source": [
    "#### So, for this dataset, Random Forest Classifier works better than Decision Tree Classifier"
   ]
  },
  {
   "cell_type": "code",
   "execution_count": null,
   "id": "f708be4f",
   "metadata": {},
   "outputs": [],
   "source": []
  }
 ],
 "metadata": {
  "kernelspec": {
   "display_name": "Python 3 (ipykernel)",
   "language": "python",
   "name": "python3"
  },
  "language_info": {
   "codemirror_mode": {
    "name": "ipython",
    "version": 3
   },
   "file_extension": ".py",
   "mimetype": "text/x-python",
   "name": "python",
   "nbconvert_exporter": "python",
   "pygments_lexer": "ipython3",
   "version": "3.9.13"
  }
 },
 "nbformat": 4,
 "nbformat_minor": 5
}
